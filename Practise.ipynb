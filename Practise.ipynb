{
 "cells": [
  {
   "cell_type": "code",
   "execution_count": 6,
   "metadata": {},
   "outputs": [
    {
     "name": "stdout",
     "output_type": "stream",
     "text": [
      "Rodger is a mammal\n",
      "Tommy is also a mammal\n"
     ]
    }
   ],
   "source": [
    "class Dog:\n",
    " \n",
    "    # class attribute\n",
    "    attr1 = \"mammal\"\n",
    " \n",
    "    # Instance attribute\n",
    "    def __init__(self, name):\n",
    "        self.name = name\n",
    " \n",
    "# Driver code\n",
    "# Object instantiation\n",
    "Rodger = Dog(\"Rodger\")\n",
    "Tommy = Dog(\"Tommy\")\n",
    " \n",
    "# Accessing class attributes\n",
    "print(\"Rodger is a {}\".format(Rodger.__class__.attr1))\n",
    "print(\"Tommy is also a {}\".format(Tommy.__class__.attr1))\n",
    " \n",
    "# # Accessing instance attributes\n",
    "# print(\"My name is {}\".format(Rodger.name))\n",
    "# print(\"My name is {}\".format(Tommy.name))"
   ]
  },
  {
   "cell_type": "code",
   "execution_count": 34,
   "metadata": {},
   "outputs": [
    {
     "name": "stdout",
     "output_type": "stream",
     "text": [
      "humans are: siddartha\n",
      "BOT are made BY: siddartha\n"
     ]
    }
   ],
   "source": [
    "class human:\n",
    "    main =  \"siddartha\"\n",
    "    main_2 = \"BOT\"\n",
    "    \n",
    "    \n",
    "    def __init__(self,name):\n",
    "        self.name = name\n",
    "    \n",
    "data = human(\"siddartha kowshik\")\n",
    "\n",
    "print(\"humans are: {}\".format(data.main))\n",
    "print(\"BOT are made BY: {}\".format(data.main))\n",
    "\n",
    "    \n",
    "    "
   ]
  },
  {
   "cell_type": "code",
   "execution_count": 66,
   "metadata": {},
   "outputs": [
    {
     "name": "stdout",
     "output_type": "stream",
     "text": [
      "siddartha kowshik\n",
      "1000108\n",
      "My name is siddartha kowshik\n",
      "IdNumber: 1000108\n"
     ]
    }
   ],
   "source": [
    "class Employee():\n",
    " \n",
    "    # __init__ is known as the constructor\n",
    "    def __init__(self, name, idnumber):\n",
    "        self.name = name\n",
    "        self.idnumber = idnumber\n",
    " \n",
    "    def display(self):\n",
    "        print(self.name)\n",
    "        print(self.idnumber)\n",
    "         \n",
    "    def details(self):\n",
    "        print(\"My name is {}\".format(self.name))\n",
    "        print(\"IdNumber: {}\".format(self.idnumber))\n",
    "        \n",
    "data = Employee(\"siddartha kowshik\",1000108)\n",
    "\n",
    "data.display()\n",
    "data.details()"
   ]
  },
  {
   "cell_type": "code",
   "execution_count": 82,
   "metadata": {},
   "outputs": [
    {
     "name": "stdout",
     "output_type": "stream",
     "text": [
      "name : siddartha\n",
      "details : 100108\n",
      "Desgination : E-Work-Force Engineer\n",
      "Annual CTC : 24000\n"
     ]
    }
   ],
   "source": [
    "\n",
    "# Sample code for OOPS using Abstraction and Encapuslation.\n",
    "\n",
    "\n",
    "\n",
    "class data():\n",
    "    def __init__(self,name,id):\n",
    "        self.__name = name            #Dynamic Private \n",
    "        self._id = id                    #Dynamic Protected\n",
    "        self.Desgination = \"E-Work-Force Engineer\"      #static \n",
    "        self.CTC = 24000                        #static\n",
    "        \n",
    "    #Details \n",
    "    def details(self):\n",
    "        print(\"name :\",self.__name)\n",
    "        print(\"details :\",self._id)\n",
    "        \n",
    "    #Salary Package.\n",
    "    def SalaryData(self):\n",
    "        print(\"Desgination :\",self.Desgination)\n",
    "        print(\"Annual CTC :\",self.CTC)\n",
    "        \n",
    "main = data(\"siddartha\",100108)\n",
    "\n",
    "main.details()\n",
    "main.SalaryData()\n",
    "        \n",
    "    \n",
    "    "
   ]
  },
  {
   "cell_type": "code",
   "execution_count": 133,
   "metadata": {},
   "outputs": [
    {
     "name": "stdout",
     "output_type": "stream",
     "text": [
      "name : siddartha\n",
      "ID: 100108\n",
      "There are interns: Salary only 10,000\n"
     ]
    }
   ],
   "source": [
    "\n",
    "# Sample code for OOPS using Abstraction and Encapuslation.\n",
    "\n",
    "import datetime\n",
    "\n",
    "class data():\n",
    "    #main i/o.\n",
    "    def __init__(self,name,id,year):# inside function postional arguments.\n",
    "        self.__name = name            #Dynamic Private \n",
    "        self._id = id                    #Dynamic Protected\n",
    "        self.Desgination = \"E-Work-Force Engineer\"      #static \n",
    "        self.__interns = \"There are interns:\"   #static using private\n",
    "        self.CTC = 24000                        #static\n",
    "        self._year = year                 #Dynamic\n",
    "        \n",
    "        \n",
    "    #Details \n",
    "    def details(self):\n",
    "        print(\"name :\",self.__name)\n",
    "        print(\"ID:\",self._id)\n",
    "        \n",
    "    #Salary Package.\n",
    "    def SalaryData(self):\n",
    "        if self._year > 0:\n",
    "            l = self.CTC * 20\n",
    "            print(\"Desgination :\",self.Desgination)\n",
    "            print(\"Annual CTC :\",l)\n",
    "        elif self._year == 0:\n",
    "            m = \"Salary only 10,000\"\n",
    "            print(self.__interns,m)\n",
    "\n",
    "             \n",
    "             \n",
    "           \n",
    "            \n",
    "#Main code starts from here.\n",
    "main = data(\"siddartha\",100108,0)\n",
    "\n",
    "main.details()\n",
    "main.SalaryData()\n",
    "        \n",
    "    \n",
    "    "
   ]
  },
  {
   "cell_type": "code",
   "execution_count": null,
   "metadata": {},
   "outputs": [],
   "source": [
    "class person(object):\n",
    "    def __init__(self,id,name,desgination):\n",
    "        self._id = id\n",
    "        self.__name = name\n",
    "        self._desgination = desgination\n",
    "    def details(self):\n",
    "        main_1 =self.__name,self._id,self._desgination\n",
    "        return main_1\n",
    "class main(person):\n",
    "    def display(self):\n",
    "        if self._desgination == \"E-Work-Force Engineer\""
   ]
  }
 ],
 "metadata": {
  "kernelspec": {
   "display_name": "Python 3.10.6 64-bit (windows store)",
   "language": "python",
   "name": "python3"
  },
  "language_info": {
   "codemirror_mode": {
    "name": "ipython",
    "version": 3
   },
   "file_extension": ".py",
   "mimetype": "text/x-python",
   "name": "python",
   "nbconvert_exporter": "python",
   "pygments_lexer": "ipython3",
   "version": "3.10.6"
  },
  "orig_nbformat": 4,
  "vscode": {
   "interpreter": {
    "hash": "81051acf6aa7d7ff5966202ca4bda85260e27e6277e1447f95280c803a56f9ad"
   }
  }
 },
 "nbformat": 4,
 "nbformat_minor": 2
}
