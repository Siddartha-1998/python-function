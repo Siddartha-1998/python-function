{
 "cells": [
  {
   "cell_type": "code",
   "execution_count": 136,
   "metadata": {},
   "outputs": [
    {
     "name": "stdout",
     "output_type": "stream",
     "text": [
      "Rodger is a mammal\n",
      "Tommy is also a mammal\n"
     ]
    }
   ],
   "source": [
    "class Dog:\n",
    " \n",
    "    # class attribute\n",
    "    attr1 = \"mammal\"\n",
    " \n",
    "    # Instance attribute\n",
    "    def __init__(self, name):\n",
    "        self.name = name\n",
    " \n",
    "# Driver code\n",
    "# Object instantiation\n",
    "Rodger = Dog(\"Rodger\")\n",
    "Tommy = Dog(\"Tommy\")\n",
    " \n",
    "# Accessing class attributes\n",
    "print(\"Rodger is a {}\".format(Rodger.__class__.attr1))\n",
    "print(\"Tommy is also a {}\".format(Tommy.__class__.attr1))\n",
    " \n",
    "# # Accessing instance attributes\n",
    "# print(\"My name is {}\".format(Rodger.name))\n",
    "# print(\"My name is {}\".format(Tommy.name))"
   ]
  },
  {
   "cell_type": "code",
   "execution_count": 137,
   "metadata": {},
   "outputs": [
    {
     "name": "stdout",
     "output_type": "stream",
     "text": [
      "humans are: siddartha\n",
      "BOT are made BY: siddartha\n"
     ]
    }
   ],
   "source": [
    "class human:\n",
    "    main =  \"siddartha\"\n",
    "    main_2 = \"BOT\"\n",
    "    \n",
    "    \n",
    "    def __init__(self,name):\n",
    "        self.name = name\n",
    "    \n",
    "data = human(\"siddartha kowshik\")\n",
    "\n",
    "print(\"humans are: {}\".format(data.main))\n",
    "print(\"BOT are made BY: {}\".format(data.main))\n",
    "\n",
    "    \n",
    "    "
   ]
  },
  {
   "cell_type": "code",
   "execution_count": 138,
   "metadata": {},
   "outputs": [
    {
     "name": "stdout",
     "output_type": "stream",
     "text": [
      "siddartha kowshik\n",
      "1000108\n",
      "My name is siddartha kowshik\n",
      "IdNumber: 1000108\n"
     ]
    }
   ],
   "source": [
    "class Employee():\n",
    " \n",
    "    # __init__ is known as the constructor\n",
    "    def __init__(self, name, idnumber):\n",
    "        self.name = name\n",
    "        self.idnumber = idnumber\n",
    " \n",
    "    def display(self):\n",
    "        print(self.name)\n",
    "        print(self.idnumber)\n",
    "         \n",
    "    def details(self):\n",
    "        print(\"My name is {}\".format(self.name))\n",
    "        print(\"IdNumber: {}\".format(self.idnumber))\n",
    "        \n",
    "data = Employee(\"siddartha kowshik\",1000108)\n",
    "\n",
    "data.display()\n",
    "data.details()"
   ]
  },
  {
   "cell_type": "code",
   "execution_count": 139,
   "metadata": {},
   "outputs": [
    {
     "name": "stdout",
     "output_type": "stream",
     "text": [
      "name : siddartha\n",
      "details : 100108\n",
      "Desgination : E-Work-Force Engineer\n",
      "Annual CTC : 24000\n"
     ]
    }
   ],
   "source": [
    "\n",
    "# Sample code for OOPS using Abstraction and Encapuslation.\n",
    "\n",
    "\n",
    "\n",
    "class data():\n",
    "    def __init__(self,name,id):\n",
    "        self.__name = name            #Dynamic Private \n",
    "        self._id = id                    #Dynamic Protected\n",
    "        self.Desgination = \"E-Work-Force Engineer\"      #static \n",
    "        self.CTC = 24000                        #static\n",
    "        \n",
    "    #Details \n",
    "    def details(self):\n",
    "        print(\"name :\",self.__name)\n",
    "        print(\"details :\",self._id)\n",
    "        \n",
    "    #Salary Package.\n",
    "    def SalaryData(self):\n",
    "        print(\"Desgination :\",self.Desgination)\n",
    "        print(\"Annual CTC :\",self.CTC)\n",
    "        \n",
    "main = data(\"siddartha\",100108)\n",
    "\n",
    "main.details()\n",
    "main.SalaryData()\n",
    "        \n",
    "    \n",
    "    "
   ]
  },
  {
   "cell_type": "code",
   "execution_count": 140,
   "metadata": {},
   "outputs": [
    {
     "name": "stdout",
     "output_type": "stream",
     "text": [
      "name : siddartha\n",
      "ID: 100108\n",
      "There are interns: Salary only 10,000\n"
     ]
    }
   ],
   "source": [
    "\n",
    "# Sample code for OOPS using Abstraction and Encapuslation.\n",
    "\n",
    "import datetime\n",
    "\n",
    "class data():\n",
    "    #main i/o.\n",
    "    def __init__(self,name,id,year):# inside function postional arguments.\n",
    "        self.__name = name            #Dynamic Private \n",
    "        self._id = id                    #Dynamic Protected\n",
    "        self.Desgination = \"E-Work-Force Engineer\"      #static \n",
    "        self.__interns = \"There are interns:\"   #static using private\n",
    "        self.CTC = 24000                        #static\n",
    "        self._year = year                 #Dynamic\n",
    "        \n",
    "        \n",
    "    #Details \n",
    "    def details(self):\n",
    "        print(\"name :\",self.__name)\n",
    "        print(\"ID:\",self._id)\n",
    "        \n",
    "    #Salary Package.\n",
    "    def SalaryData(self):\n",
    "        if self._year > 0:\n",
    "            l = self.CTC * 20\n",
    "            print(\"Desgination :\",self.Desgination)\n",
    "            print(\"Annual CTC :\",l)\n",
    "        elif self._year == 0:\n",
    "            m = \"Salary only 10,000\"\n",
    "            print(self.__interns,m)\n",
    "\n",
    "             \n",
    "             \n",
    "           \n",
    "            \n",
    "#Main code starts from here.\n",
    "main = data(\"siddartha\",100108,0)\n",
    "\n",
    "main.details()\n",
    "main.SalaryData()\n",
    "        \n",
    "    \n",
    "    "
   ]
  },
  {
   "cell_type": "code",
   "execution_count": 152,
   "metadata": {},
   "outputs": [
    {
     "name": "stdout",
     "output_type": "stream",
     "text": [
      "Name siddartha\n",
      "id 100108\n",
      "desgination E-Work-Force Engineer\n"
     ]
    }
   ],
   "source": [
    "#Inheritance.\n",
    "\n",
    "class person(object):\n",
    "    def __init__(self,id,name,desgination):\n",
    "        self._id = id\n",
    "        self.__name = name\n",
    "        self._desgination = desgination\n",
    "    def details(self):\n",
    "        print(\"Name\",self.__name)\n",
    "        print(\"id\",self._id)\n",
    "        print(\"desgination\",self._desgination)\n",
    "class main(person):\n",
    "    def display(self):\n",
    "        if self._desgination == \"E-Work-Force Engineer\":\n",
    "            m  = \"Techforce.ai Employee\"\n",
    "            return m\n",
    "        else:\n",
    "            return \"not Employee need to get job\"\n",
    "            \n",
    "            \n",
    "main_1 = main(100108,\"siddartha\",\"E-Work-Force Engineer\")\n",
    "main_1.display()\n",
    "main_1.details()\n",
    "\n",
    "            "
   ]
  },
  {
   "cell_type": "code",
   "execution_count": 8,
   "metadata": {},
   "outputs": [
    {
     "name": "stdout",
     "output_type": "stream",
     "text": [
      "name of  the Employee siddartha\n",
      "Actual salary 14330\n",
      "Increment Salary 286600\n"
     ]
    }
   ],
   "source": [
    "#multi-level or Hybrid inheritance.\n",
    "from tkinter.font import names\n",
    "from xml.dom.expatbuilder import Namespaces\n",
    "\n",
    "\n",
    "class data(object):\n",
    "    def __init__(self,name,salary,employee,project):\n",
    "        self._name = name\n",
    "        self.__salary = salary\n",
    "        self.__employee = employee\n",
    "        self.__project = project\n",
    "    def details(self):\n",
    "        if self.__project == \"IBM MARICO CHAT BOT\" and self.__employee == \"Techforce.ai\":\n",
    "            print(\"name of  the Employee\",self._name)\n",
    "            print(\"Actual salary\",self.__salary)\n",
    "            print(\"Increment Salary\",self.__salary*20)\n",
    "        elif self.__project == \"Ultra Tech\" and self.__employee == \"Techforce.ai\":\n",
    "            print(\"name of  the Employee\",self._name)\n",
    "            print(\"Actual salary\",self.__salary)\n",
    "            print(\"Increment Salary\",self.__salary*30)\n",
    "        elif self.__project == \"ASK\" and self.__employee == \"Techforce.ai\":\n",
    "            print(\"name of  the Employee\",self._name)\n",
    "            print(\"Actual salary\",self.__salary)\n",
    "            print(\"Increment Salary\",self.__salary*40)\n",
    "    def display(self):\n",
    "       print(\"current projet\",self.__project)\n",
    "class data1(data):\n",
    "    def matter(details):\n",
    "        pass\n",
    "class data2(data1):\n",
    "    def matter_2(matter):\n",
    "     print(\"data is running in hybrid inheritance\")\n",
    "    \n",
    "main = data2(\"siddartha\",14330,\"Techforce.ai\",\"IBM MARICO CHAT BOT\")\n",
    "main.details()\n",
    "        \n",
    "            \n",
    "\n",
    "            \n",
    "            \n",
    "            \n",
    "        "
   ]
  },
  {
   "cell_type": "code",
   "execution_count": null,
   "metadata": {},
   "outputs": [],
   "source": []
  }
 ],
 "metadata": {
  "kernelspec": {
   "display_name": "Python 3.10.6 64-bit (windows store)",
   "language": "python",
   "name": "python3"
  },
  "language_info": {
   "codemirror_mode": {
    "name": "ipython",
    "version": 3
   },
   "file_extension": ".py",
   "mimetype": "text/x-python",
   "name": "python",
   "nbconvert_exporter": "python",
   "pygments_lexer": "ipython3",
   "version": "3.10.6"
  },
  "orig_nbformat": 4,
  "vscode": {
   "interpreter": {
    "hash": "81051acf6aa7d7ff5966202ca4bda85260e27e6277e1447f95280c803a56f9ad"
   }
  }
 },
 "nbformat": 4,
 "nbformat_minor": 2
}
