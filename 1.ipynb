{
 "cells": [
  {
   "cell_type": "code",
   "execution_count": 6,
   "metadata": {},
   "outputs": [
    {
     "ename": "TypeError",
     "evalue": "list indices must be integers or slices, not str",
     "output_type": "error",
     "traceback": [
      "\u001b[1;31m---------------------------------------------------------------------------\u001b[0m",
      "\u001b[1;31mTypeError\u001b[0m                                 Traceback (most recent call last)",
      "\u001b[1;32me:\\GE-PROJECT_DATABASE\\Nikhil\\Great_Shipping\\src\\1.ipynb Cell 1\u001b[0m in \u001b[0;36m<cell line: 31>\u001b[1;34m()\u001b[0m\n\u001b[0;32m     <a href='vscode-notebook-cell:/e%3A/GE-PROJECT_DATABASE/Nikhil/Great_Shipping/src/1.ipynb#W0sZmlsZQ%3D%3D?line=32'>33</a>\u001b[0m main_1 \u001b[39m=\u001b[39m req\u001b[39m.\u001b[39mget(res_1) \n\u001b[0;32m     <a href='vscode-notebook-cell:/e%3A/GE-PROJECT_DATABASE/Nikhil/Great_Shipping/src/1.ipynb#W0sZmlsZQ%3D%3D?line=33'>34</a>\u001b[0m main_2 \u001b[39m=\u001b[39m json\u001b[39m.\u001b[39mloads(main_1\u001b[39m.\u001b[39mtext)\n\u001b[1;32m---> <a href='vscode-notebook-cell:/e%3A/GE-PROJECT_DATABASE/Nikhil/Great_Shipping/src/1.ipynb#W0sZmlsZQ%3D%3D?line=34'>35</a>\u001b[0m \u001b[39mprint\u001b[39m(main_2[\u001b[39m0\u001b[39m][\u001b[39m\"\u001b[39m\u001b[39mmetadata\u001b[39m\u001b[39m\"\u001b[39m][\u001b[39m\"\u001b[39m\u001b[39mdescription\u001b[39m\u001b[39m\"\u001b[39m],main_2[\u001b[39m\"\u001b[39;49m\u001b[39mdata\u001b[39;49m\u001b[39m\"\u001b[39;49m])\n",
      "\u001b[1;31mTypeError\u001b[0m: list indices must be integers or slices, not str"
     ]
    }
   ],
   "source": [
    "from textwrap import indent\n",
    "import requests as req\n",
    "import pandas as pd\n",
    "import time\n",
    "import pickle\n",
    "import json\n",
    "import csv\n",
    "import openpyxl\n",
    "\n",
    "\n",
    "l = []\n",
    "l1 = []\n",
    "# ref = ['Angola', 'Congo', 'Algeria', 'Gabon', 'Equatorial_Guinea', 'Libya', 'Nigeria', 'Venezuela', 'UAE', 'Iraq', 'Iran', 'Kuwait', 'Saudi_Arabia', 'Burkina_Faso', 'Burundi', 'Benin', 'Botswana', 'Democratic_Republic_of_the_Congo', 'Central_African_Republic', 'Ivory_Coast', 'Cameroon', 'Cabo_Verde', 'Djibouti', 'Egypt', 'Western_Sahara', 'Eritrea', 'Ethiopia', 'Ghana', 'Gambia', 'Guinea', 'Guinea-Bissau', 'Kenya', 'Comoros', 'Liberia', 'Lesotho', 'Morocco', 'Madagascar', 'Mali', 'Mauritania', 'Mauritius', 'Malawi', 'Mozambique', 'Namibia', 'Niger', 'Rwanda', 'Seychelles', 'Sudan_and_South_Sudan', 'Saint_Helena', 'Sierra_Leone', 'Senegal', 'Somalia', 'Sao_Tome_and_Principe', 'Swaziland', 'Chad', 'Togo', 'Tunisia', 'Tanzania', 'Uganda', 'South_Africa', 'Zambia', 'Zimbabwe', 'American_Samoa', 'Australia', 'Bangladesh', 'Brunei', 'Bhutan', 'Cook_Islands', 'China', 'Fiji', 'Guam', 'Hong_Kong', 'Indonesia', 'India', 'Japan', 'Cambodia', 'Kiribati', 'North_Korea', 'South_Korea', 'Laos', 'Sri_Lanka', 'Myanmar', 'Mongolia', 'Macau', 'Maldives', 'Malaysia', 'New_Caledonia', 'Nepal', 'Nauru', 'Niue', 'New_Zealand', 'French_Polynesia', 'Papua_New_Guinea', 'Philippines', 'Pakistan', 'Solomon_Islands', 'Singapore', 'Thailand', 'Timor-Leste', 'East', 'Timor)', 'Tonga', 'Taiwan', 'US_Wake_Island', 'US_Hawaii', 'Vietnam', 'Vanuatu', 'Samoa', 'Albania', 'Austria', 'Bosnia_and_Herzegovina', 'Belgium', 'Bulgaria', 'Switzerland', 'Cyprus', 'Czechia', 'Germany', 'Denmark', 'Estonia', 'Spain', 'Finland', 'Faroe_Islands', 'France', 'United_Kingdom', 'Gibraltar', 'Greece', 'Croatia', 'Hungary', 'Ireland', 'Iceland', 'Italy', 'Lithuania', 'Luxembourg', 'Latvia', 'Montenegro', 'North_Macedonia', 'Malta', 'Netherlands', 'Norway', 'Poland', 'Portugal', 'Romania', 'Serbia', 'Sweden', 'Slovenia', 'Slovakia', 'Turkey', 'Afghanistan', 'Armenia', 'Azerbaijan', 'Belarus', 'Georgia', 'Kyrgyzstan', 'Kazakhstan', 'Moldova', 'Russia', 'Tajikistan', 'Turkmenistan', 'Ukraine', 'Uzbekistan', 'Antigua_and_Barbuda', 'Netherlands_Antilles', 'Argentina', 'Aruba', 'Barbados', 'Bolivia', 'Brazil', 'Bahamas', 'Belize', 'Chile', 'Colombia', 'Costa_Rica', 'Cuba', 'Dominica', 'Dominican_Republic', 'Ecuador', 'Falkland_Islands_(Malvinas)', 'Grenada', 'French_Guiana', 'Guadeloupe', 'Guatemala', 'Guyana', 'Honduras', 'Haiti', 'Jamaica', 'Saint_Kitts_and_Nevis', 'Cayman_Islands', 'Saint_Lucia', 'Martinique', 'Montserrat', 'Nicaragua', 'Panama', 'Peru', 'Puerto_Rico', 'Paraguay', 'Suriname', 'El_Salvador', 'Turks_and_Caicos_Islands', 'Trinidad_and_Tobago', 'Uruguay', 'Saint_Vincent_and_the_Grenadines', 'United_Kingdom_Virgin_Islands', 'US_Virgin_Islands', 'Bahrain', 'Israel', 'Jordan', 'Lebanon', 'Oman', 'Qatar', 'Syria', 'Yemen', 'Bermuda', 'Canada', 'Greenland', 'Mexico', 'Saint_Pierre_and_Miquelon', 'US_Alaska', 'US', 'Antarctica']\n",
    "API_Key = 'EPvbpqLCa90jVF3r'\n",
    "\n",
    "    # res = req.get('https://api.energyaspects.com/data/datasets/timeseries?api_key=%s' % API_Key)\n",
    "res = req.get('https://api.energyaspects.com/data/datasets/timeseries?api_key=%s' % API_Key)\n",
    "main = json.loads(res.text)\n",
    "for i in main:\n",
    "        if \"OPEC crude production, EA forecast,\" in i[\"metadata\"][\"description\"]:\n",
    "            l.append(i[\"dataset_id\"])\n",
    "        if \"Monthly OPEC \" in i[\"metadata\"][\"description\"]:\n",
    "            l.append(i[\"dataset_id\"])\n",
    "        if \"Total OPEC NGL production\" in i[\"metadata\"][\"description\"]:\n",
    "            l.append(i[\"dataset_id\"])\n",
    "        if \"Total OPEC Condensate production\" in i[\"metadata\"][\"description\"]:\n",
    "            l.append(i[\"dataset_id\"])\n",
    "# print(l)\n",
    "\n",
    "url = 'https://api.energyaspects.com/data/timeseries/json?api_key=EPvbpqLCa90jVF3r&date_from=2009-01-01&date_to=2023-01-01&dataset_id='\n",
    "for i in l:\n",
    "    res_1 = url +  str(i)\n",
    "    main_1 = req.get(res_1) \n",
    "    main_2 = json.loads(main_1.text)\n",
    "    print(main_2[0][\"metadata\"][\"description\"])"
   ]
  },
  {
   "cell_type": "code",
   "execution_count": null,
   "metadata": {},
   "outputs": [],
   "source": []
  },
  {
   "cell_type": "code",
   "execution_count": 11,
   "metadata": {},
   "outputs": [
    {
     "ename": "SyntaxError",
     "evalue": "closing parenthesis ')' does not match opening parenthesis '{' (2055650718.py, line 39)",
     "output_type": "error",
     "traceback": [
      "\u001b[1;36m  Input \u001b[1;32mIn [11]\u001b[1;36m\u001b[0m\n\u001b[1;33m    pd.DataFrame({i['metadata']['description']: i['data'] for j in l).to_excel(\"OPEC_Crude_oil.xlsx\")\u001b[0m\n\u001b[1;37m                                                                    ^\u001b[0m\n\u001b[1;31mSyntaxError\u001b[0m\u001b[1;31m:\u001b[0m closing parenthesis ')' does not match opening parenthesis '{'\n"
     ]
    }
   ],
   "source": [
    "from textwrap import indent\n",
    "import requests as req\n",
    "import pandas as pd\n",
    "import time\n",
    "import pickle\n",
    "import json\n",
    "import csv\n",
    "import openpyxl\n",
    "\n",
    "\n",
    "l = []\n",
    "l1 = []\n",
    "_dict = {}\n",
    "ref = ['Angola', 'Congo', 'Algeria', 'Gabon', 'Equatorial_Guinea', 'Libya', 'Nigeria', 'Venezuela', 'UAE', 'Iraq', 'Iran', 'Kuwait', 'Saudi_Arabia', 'Burkina_Faso', 'Burundi', 'Benin', 'Botswana', 'Democratic_Republic_of_the_Congo', 'Central_African_Republic', 'Ivory_Coast', 'Cameroon', 'Cabo_Verde', 'Djibouti', 'Egypt', 'Western_Sahara', 'Eritrea', 'Ethiopia', 'Ghana', 'Gambia', 'Guinea', 'Guinea-Bissau', 'Kenya', 'Comoros', 'Liberia', 'Lesotho', 'Morocco', 'Madagascar', 'Mali', 'Mauritania', 'Mauritius', 'Malawi', 'Mozambique', 'Namibia', 'Niger', 'Rwanda', 'Seychelles', 'Sudan_and_South_Sudan', 'Saint_Helena', 'Sierra_Leone', 'Senegal', 'Somalia', 'Sao_Tome_and_Principe', 'Swaziland', 'Chad', 'Togo', 'Tunisia', 'Tanzania', 'Uganda', 'South_Africa', 'Zambia', 'Zimbabwe', 'American_Samoa', 'Australia', 'Bangladesh', 'Brunei', 'Bhutan', 'Cook_Islands', 'China', 'Fiji', 'Guam', 'Hong_Kong', 'Indonesia', 'India', 'Japan', 'Cambodia', 'Kiribati', 'North_Korea', 'South_Korea', 'Laos', 'Sri_Lanka', 'Myanmar', 'Mongolia', 'Macau', 'Maldives', 'Malaysia', 'New_Caledonia', 'Nepal', 'Nauru', 'Niue', 'New_Zealand', 'French_Polynesia', 'Papua_New_Guinea', 'Philippines', 'Pakistan', 'Solomon_Islands', 'Singapore', 'Thailand', 'Timor-Leste', 'East', 'Timor)', 'Tonga', 'Taiwan', 'US_Wake_Island', 'US_Hawaii', 'Vietnam', 'Vanuatu', 'Samoa', 'Albania', 'Austria', 'Bosnia_and_Herzegovina', 'Belgium', 'Bulgaria', 'Switzerland', 'Cyprus', 'Czechia', 'Germany', 'Denmark', 'Estonia', 'Spain', 'Finland', 'Faroe_Islands', 'France', 'United_Kingdom', 'Gibraltar', 'Greece', 'Croatia', 'Hungary', 'Ireland', 'Iceland', 'Italy', 'Lithuania', 'Luxembourg', 'Latvia', 'Montenegro', 'North_Macedonia', 'Malta', 'Netherlands', 'Norway', 'Poland', 'Portugal', 'Romania', 'Serbia', 'Sweden', 'Slovenia', 'Slovakia', 'Turkey', 'Afghanistan', 'Armenia', 'Azerbaijan', 'Belarus', 'Georgia', 'Kyrgyzstan', 'Kazakhstan', 'Moldova', 'Russia', 'Tajikistan', 'Turkmenistan', 'Ukraine', 'Uzbekistan', 'Antigua_and_Barbuda', 'Netherlands_Antilles', 'Argentina', 'Aruba', 'Barbados', 'Bolivia', 'Brazil', 'Bahamas', 'Belize', 'Chile', 'Colombia', 'Costa_Rica', 'Cuba', 'Dominica', 'Dominican_Republic', 'Ecuador', 'Falkland_Islands_(Malvinas)', 'Grenada', 'French_Guiana', 'Guadeloupe', 'Guatemala', 'Guyana', 'Honduras', 'Haiti', 'Jamaica', 'Saint_Kitts_and_Nevis', 'Cayman_Islands', 'Saint_Lucia', 'Martinique', 'Montserrat', 'Nicaragua', 'Panama', 'Peru', 'Puerto_Rico', 'Paraguay', 'Suriname', 'El_Salvador', 'Turks_and_Caicos_Islands', 'Trinidad_and_Tobago', 'Uruguay', 'Saint_Vincent_and_the_Grenadines', 'United_Kingdom_Virgin_Islands', 'US_Virgin_Islands', 'Bahrain', 'Israel', 'Jordan', 'Lebanon', 'Oman', 'Qatar', 'Syria', 'Yemen', 'Bermuda', 'Canada', 'Greenland', 'Mexico', 'Saint_Pierre_and_Miquelon', 'US_Alaska', 'US', 'Antarctica']\n",
    "API_Key = 'EPvbpqLCa90jVF3r'\n",
    "\n",
    "    # res = req.get('https://api.energyaspects.com/data/datasets/timeseries?api_key=%s' % API_Key)\n",
    "res = req.get('https://api.energyaspects.com/data/datasets/timeseries?api_key=%s' % API_Key)\n",
    "main = json.loads(res.text)\n",
    "for i in main:\n",
    "        if \"OPEC crude production, EA forecast,\" in i[\"metadata\"][\"description\"]:\n",
    "            l.append(i[\"dataset_id\"])\n",
    "        if \"Monthly OPEC \" in i[\"metadata\"][\"description\"]:\n",
    "            l.append(i[\"dataset_id\"])\n",
    "        if \"Total OPEC NGL production\" in i[\"metadata\"][\"description\"]:\n",
    "            l.append(i[\"dataset_id\"])\n",
    "        if \"Total OPEC Condensate production\" in i[\"metadata\"][\"description\"]:\n",
    "            l.append(i[\"dataset_id\"])\n",
    "# print(l)\n",
    "\n",
    "url = 'https://api.energyaspects.com/data/timeseries/json?api_key=EPvbpqLCa90jVF3r&date_from=2009-01-01&date_to=2023-01-01&dataset_id='\n",
    "for i in l:\n",
    "    res_1 = url +  str(i)\n",
    "    main_1 = req.get(res_1) \n",
    "    main_2 = json.loads(main_1.text)\n",
    "    resp = main_2[0]\n",
    "    # print(resp[\"metadata\"][\"description\"])\n",
    "    \n",
    "    pd.DataFrame({i['metadata']['description']: i['data'] for i in l}).to_excel(\"OPEC_Crude_oil.xlsx\")\n",
    "    wb = openpyxl.load_workbook('OPEC_Crude_oil.xlsx')\n",
    "    wb['Sheet1']['A1'] = 'Date'\n",
    "    wb.save('OPEC_Crude_oil.xlsx')\n",
    "   \n",
    "    \n",
    "   \n",
    "\n",
    "\n",
    "   \n",
    "\n",
    "    "
   ]
  },
  {
   "cell_type": "code",
   "execution_count": null,
   "metadata": {},
   "outputs": [],
   "source": []
  }
 ],
 "metadata": {
  "kernelspec": {
   "display_name": "Python 3.10.8 64-bit (microsoft store)",
   "language": "python",
   "name": "python3"
  },
  "language_info": {
   "codemirror_mode": {
    "name": "ipython",
    "version": 3
   },
   "file_extension": ".py",
   "mimetype": "text/x-python",
   "name": "python",
   "nbconvert_exporter": "python",
   "pygments_lexer": "ipython3",
   "version": "3.10.8"
  },
  "orig_nbformat": 4,
  "vscode": {
   "interpreter": {
    "hash": "81051acf6aa7d7ff5966202ca4bda85260e27e6277e1447f95280c803a56f9ad"
   }
  }
 },
 "nbformat": 4,
 "nbformat_minor": 2
}
